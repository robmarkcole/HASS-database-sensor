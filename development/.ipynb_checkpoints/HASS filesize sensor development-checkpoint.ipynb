{
 "cells": [
  {
   "cell_type": "markdown",
   "metadata": {},
   "source": [
    "Develop the filesize sensor class.\n",
    "\n",
    "For testing see https://github.com/robmarkcole/TrasportAPI-HASS/blob/master/RC_Transport_API%20%2021-7-2017.ipynb and guidance on mocking https://github.com/home-assistant/home-assistant/blob/acb521330c7aa27dacc62851f96649cfdbb377bc/tests/components/sensor/test_file.py#L74\n",
    "\n",
    "The basic logic behind the sensor is below"
   ]
  },
  {
   "cell_type": "code",
   "execution_count": 20,
   "metadata": {},
   "outputs": [],
   "source": [
    "import os\n",
    "import datetime\n",
    "import unittest\n",
    "from unittest.mock import Mock, patch"
   ]
  },
  {
   "cell_type": "code",
   "execution_count": 2,
   "metadata": {},
   "outputs": [],
   "source": [
    "PATH = \"/Users/robincole/.homeassistant/home-assistant_v2.db\""
   ]
  },
  {
   "cell_type": "code",
   "execution_count": 3,
   "metadata": {},
   "outputs": [],
   "source": [
    "statinfo = os.stat(PATH)"
   ]
  },
  {
   "cell_type": "code",
   "execution_count": 4,
   "metadata": {},
   "outputs": [],
   "source": [
    "db_size = round(statinfo.st_size/1e6, 1)"
   ]
  },
  {
   "cell_type": "code",
   "execution_count": 5,
   "metadata": {},
   "outputs": [
    {
     "name": "stdout",
     "output_type": "stream",
     "text": [
      "The file size is 38.0 MB\n"
     ]
    }
   ],
   "source": [
    "print(\"The file size is {} MB\".format(db_size))"
   ]
  },
  {
   "cell_type": "code",
   "execution_count": 6,
   "metadata": {},
   "outputs": [],
   "source": [
    "def get_file_size(path):\n",
    "    statinfo = os.stat(path)\n",
    "    file_size = round(statinfo.st_size/1e6, 1)\n",
    "    return file_size"
   ]
  },
  {
   "cell_type": "code",
   "execution_count": 7,
   "metadata": {},
   "outputs": [
    {
     "name": "stdout",
     "output_type": "stream",
     "text": [
      "The file size is 38.0 MB\n"
     ]
    }
   ],
   "source": [
    "print(\"The file size is {} MB\".format(get_file_size(PATH)))"
   ]
  },
  {
   "cell_type": "code",
   "execution_count": 8,
   "metadata": {},
   "outputs": [],
   "source": [
    "def get_last_updated(path):\n",
    "        statinfo = os.stat(path)\n",
    "        last_updated = datetime.datetime.fromtimestamp(statinfo.st_mtime)\n",
    "        return last_updated"
   ]
  },
  {
   "cell_type": "code",
   "execution_count": 39,
   "metadata": {},
   "outputs": [],
   "source": [
    "statinfo = os.stat(PATH)"
   ]
  },
  {
   "cell_type": "code",
   "execution_count": 40,
   "metadata": {},
   "outputs": [
    {
     "data": {
      "text/plain": [
       "37994496"
      ]
     },
     "execution_count": 40,
     "metadata": {},
     "output_type": "execute_result"
    }
   ],
   "source": [
    "statinfo.st_size"
   ]
  },
  {
   "cell_type": "code",
   "execution_count": 41,
   "metadata": {},
   "outputs": [
    {
     "data": {
      "text/plain": [
       "1518126363.5514238"
      ]
     },
     "execution_count": 41,
     "metadata": {},
     "output_type": "execute_result"
    }
   ],
   "source": [
    "statinfo.st_mtime"
   ]
  },
  {
   "cell_type": "code",
   "execution_count": 9,
   "metadata": {},
   "outputs": [
    {
     "data": {
      "text/plain": [
       "datetime.datetime(2018, 2, 8, 21, 46, 3, 551424)"
      ]
     },
     "execution_count": 9,
     "metadata": {},
     "output_type": "execute_result"
    }
   ],
   "source": [
    "get_last_updated(PATH)"
   ]
  },
  {
   "cell_type": "markdown",
   "metadata": {},
   "source": [
    "## Home-assistant class"
   ]
  },
  {
   "cell_type": "code",
   "execution_count": 86,
   "metadata": {},
   "outputs": [],
   "source": [
    "class Filesize():  # Entity\n",
    "    \"\"\"Encapsulates file size information.\"\"\"\n",
    "\n",
    "    def __init__(self, path):\n",
    "        \"\"\"Initialize the data object.\"\"\"\n",
    "        self._path = path   # Need to check its a valid path\n",
    "        self._size = None\n",
    "        self._last_updated = None\n",
    "        self._name = path.split(\"/\")[-1]\n",
    "        self._unit_of_measurement = 'MB'\n",
    "\n",
    "    def update(self):\n",
    "        \"\"\"Update the sensor.\"\"\"\n",
    "        self._size = self.get_file_size(self._path)\n",
    "        self._last_updated = self.get_last_updated(self._path)\n",
    "\n",
    "    def get_file_size(self, path):\n",
    "        \"\"\"Return the size of the file in bytes.\"\"\"\n",
    "        statinfo = os.stat(path)\n",
    "        file_size_bytes = statinfo.st_size\n",
    "        return file_size_bytes\n",
    "\n",
    "    def get_last_updated(self, path):\n",
    "        \"\"\"Return the time the file was last modified.\"\"\"\n",
    "        statinfo = os.stat(path)\n",
    "        last_updated = datetime.datetime.fromtimestamp(statinfo.st_mtime)\n",
    "        last_updated = last_updated.isoformat(' ')\n",
    "        return last_updated\n",
    "\n",
    "    @property\n",
    "    def name(self):\n",
    "        \"\"\"Return the name of the sensor.\"\"\"\n",
    "        return self._name\n",
    "\n",
    "    @property\n",
    "    def state(self):\n",
    "        \"\"\"Return the size of the file in MB.\"\"\"\n",
    "        decimals = 2\n",
    "        state_mb = round(self._size/1e6, decimals)\n",
    "        return state_mb\n",
    "\n",
    "    @property\n",
    "    def icon(self):\n",
    "        \"\"\"Icon to use in the frontend, if any.\"\"\"\n",
    "        return ICON\n",
    "\n",
    "    @property\n",
    "    def device_state_attributes(self):\n",
    "        \"\"\"Return other details about the sensor state.\"\"\"\n",
    "        attr = {\n",
    "            'path': self._path,\n",
    "            'last_updated': self._last_updated,\n",
    "            'bytes': self._size,\n",
    "            }\n",
    "        return attr\n",
    "\n",
    "    @property\n",
    "    def unit_of_measurement(self):\n",
    "        \"\"\"Return the unit of measurement of this entity, if any.\"\"\"\n",
    "        return self._unit_of_measurement"
   ]
  },
  {
   "cell_type": "code",
   "execution_count": 87,
   "metadata": {},
   "outputs": [],
   "source": [
    "test_sensor = Filesize(PATH)"
   ]
  },
  {
   "cell_type": "code",
   "execution_count": 88,
   "metadata": {},
   "outputs": [],
   "source": [
    "test_sensor.update()"
   ]
  },
  {
   "cell_type": "code",
   "execution_count": 89,
   "metadata": {},
   "outputs": [
    {
     "data": {
      "text/plain": [
       "38.32"
      ]
     },
     "execution_count": 89,
     "metadata": {},
     "output_type": "execute_result"
    }
   ],
   "source": [
    "test_sensor.state"
   ]
  },
  {
   "cell_type": "code",
   "execution_count": 90,
   "metadata": {},
   "outputs": [
    {
     "data": {
      "text/plain": [
       "False"
      ]
     },
     "execution_count": 90,
     "metadata": {},
     "output_type": "execute_result"
    }
   ],
   "source": [
    "test_sensor.state == 37.99"
   ]
  },
  {
   "cell_type": "code",
   "execution_count": 91,
   "metadata": {},
   "outputs": [
    {
     "data": {
      "text/plain": [
       "{'bytes': 38322176,\n",
       " 'last_updated': '2018-02-12 05:46:07.326651',\n",
       " 'path': '/Users/robincole/.homeassistant/home-assistant_v2.db'}"
      ]
     },
     "execution_count": 91,
     "metadata": {},
     "output_type": "execute_result"
    }
   ],
   "source": [
    "test_sensor.device_state_attributes"
   ]
  },
  {
   "cell_type": "code",
   "execution_count": 92,
   "metadata": {},
   "outputs": [],
   "source": [
    "class FakeObj():\n",
    "    '''Fake object for testing.'''\n",
    "    def __init__(self, stat, mtime):\n",
    "        self.st_size= stat\n",
    "        self.st_mtime = mtime"
   ]
  },
  {
   "cell_type": "code",
   "execution_count": 93,
   "metadata": {},
   "outputs": [],
   "source": [
    "fake = FakeObj(37990000, 1518126363.5514238)"
   ]
  },
  {
   "cell_type": "code",
   "execution_count": 94,
   "metadata": {},
   "outputs": [
    {
     "data": {
      "text/plain": [
       "37990000"
      ]
     },
     "execution_count": 94,
     "metadata": {},
     "output_type": "execute_result"
    }
   ],
   "source": [
    "fake.st_size"
   ]
  },
  {
   "cell_type": "code",
   "execution_count": 95,
   "metadata": {},
   "outputs": [
    {
     "data": {
      "text/plain": [
       "1518126363.5514238"
      ]
     },
     "execution_count": 95,
     "metadata": {},
     "output_type": "execute_result"
    }
   ],
   "source": [
    "fake.st_mtime"
   ]
  },
  {
   "cell_type": "code",
   "execution_count": 96,
   "metadata": {},
   "outputs": [
    {
     "name": "stderr",
     "output_type": "stream",
     "text": [
      "test_filesize_class (__main__.TestSensor) ... ok\n",
      "\n",
      "----------------------------------------------------------------------\n",
      "Ran 1 test in 0.002s\n",
      "\n",
      "OK\n"
     ]
    },
    {
     "data": {
      "text/plain": [
       "<unittest.main.TestProgram at 0x1048cd080>"
      ]
     },
     "execution_count": 96,
     "metadata": {},
     "output_type": "execute_result"
    }
   ],
   "source": [
    "class TestSensor(unittest.TestCase):\n",
    "    @patch('os.stat', Mock(return_value=fake))\n",
    "    def test_filesize_class(self): \n",
    "        test_sensor = Filesize(PATH)\n",
    "        test_sensor.update()\n",
    "        assert test_sensor.state == 37.99\n",
    "        \n",
    "        attrs = test_sensor.device_state_attributes\n",
    "        assert attrs['bytes'] == 37990000\n",
    "        assert attrs['last_updated'] == '2018-02-08 21:46:03.551424'\n",
    "        assert attrs['path'] == PATH\n",
    "        \n",
    "unittest.main(argv=['ignored', '-v'], exit=False)"
   ]
  },
  {
   "cell_type": "code",
   "execution_count": null,
   "metadata": {},
   "outputs": [],
   "source": []
  }
 ],
 "metadata": {
  "kernelspec": {
   "display_name": "Python 3",
   "language": "python",
   "name": "python3"
  },
  "language_info": {
   "codemirror_mode": {
    "name": "ipython",
    "version": 3
   },
   "file_extension": ".py",
   "mimetype": "text/x-python",
   "name": "python",
   "nbconvert_exporter": "python",
   "pygments_lexer": "ipython3",
   "version": "3.6.3"
  }
 },
 "nbformat": 4,
 "nbformat_minor": 2
}
